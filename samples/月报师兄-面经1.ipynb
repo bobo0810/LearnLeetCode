{
 "cells": [
  {
   "cell_type": "code",
   "execution_count": 4,
   "id": "1f85153f-dce9-4242-bc79-34ce85f1a00e",
   "metadata": {},
   "outputs": [],
   "source": [
    "# 百度（一面）\n",
    "# 1.大模型常见的微调的方式有哪些（Lora都在那一层进行加入低秩矩阵）,他们具体的方法。\n",
    "# 2.bert与gpt不同\n",
    "# 3.gpt的loss是怎么计算的\n",
    "# 4.loss加权重为什么不用DPO.（项目相关）\n",
    "\n",
    "# 算法题：【LeetCode-并查集】朋友圈 \n",
    "# 题目描述#\n",
    "# 班上有 N 名学生。其中有些人是朋友，有些则不是。他们的友谊具有是传递性。如果已知 A 是 B 的朋友，B 是 C 的朋友，那么我们可以认为 A 也是 C 的朋友。所谓的朋友圈，是指所有朋友的集合。\n",
    "\n",
    "# 给定一个 N * N 的矩阵 M，表示班级中学生之间的朋友关系。如果M[i][j] = 1，表示已知第 i 个和 j 个学生互为朋友关系，否则为不知道。你必须输出所有学生中的已知的朋友圈总数。\n",
    "\n",
    "# 百度二面\n",
    "# 1.transformer里面decode与encode的区别 \n",
    "# 2.transformer里面的3个attention的区别\n",
    "# 3. GQA了解过吗，说说具体的原理\n",
    "# 项目相关的\n",
    "\n",
    "# 算法题：6.最长上升子序列”（LIS, Longest Increasing Subsequence）\n",
    "\n",
    "# 百度三面\n",
    "# 1.常见的微调方式有哪些\n",
    "# 2.你了解哪些推荐算法\n",
    "# 3.谈谈你对排序的理解\n",
    "# 4.个人优缺点。\n",
    "# 5.项目相关的。\n",
    "\n",
    "# 算法题：\n",
    "# LeetCode 1049.最后一块石头的重量（堆排序，还有其他方法吗（0-1背包））\n",
    "\n",
    "#BP面试\n",
    "# 1.大学经历，研究生经历\n",
    "# 2.工作经历，为什么选择水滴，除了水滴的offer还有其他的吗\n",
    "# 3.优缺点，职业规划，领导对你的评价，哪些差的评价，你怎么看"
   ]
  },
  {
   "cell_type": "code",
   "execution_count": null,
   "id": "4f78b628-5089-49a1-8ab0-2faace6f8ace",
   "metadata": {},
   "outputs": [],
   "source": [
    "# 蚂蚁一面\n",
    "# 1.训练过程中你都关注哪些训练参数\n",
    "# 2.训练过程中有没有loss出现异常的情况，是如何解决的。\n",
    "# 3. 讲讲你熟悉的微调方法\n",
    "# 4. 项目相关的\n",
    "# 5. 算法题：数组中第K大元素（堆排序，用快排的思想再实现一边）\n",
    "# 蚂蚁二面\n",
    "# 谈谈你对qwen2的模型架构理解。\n",
    "# 做项目有没有遇到什么坑，如何解决的\n",
    "# 项目中的训练集是如何构造的。\n",
    "# 算法题：一个数组先递增后递减，找出数组不重复的个数\n",
    "# 蚂蚁三面\n",
    "# 主要是对项目的问题"
   ]
  },
  {
   "cell_type": "code",
   "execution_count": null,
   "id": "77bc4570-9e66-4a8b-b13c-8e52f9b86fcd",
   "metadata": {},
   "outputs": [],
   "source": [
    "# 高德\n",
    "# 1. 一个输入为n,维度为d，时间复杂度和空间复杂度的计算\n",
    "# 2. 一个为2B的参数模型，用fp32训练，占多大的显存。\n",
    "# 3.序列并行有哪些方法，了解过哪些attention的变种"
   ]
  }
 ],
 "metadata": {
  "kernelspec": {
   "display_name": "Python 3",
   "language": "python",
   "name": "python3"
  },
  "language_info": {
   "codemirror_mode": {
    "name": "ipython",
    "version": 3
   },
   "file_extension": ".py",
   "mimetype": "text/x-python",
   "name": "python",
   "nbconvert_exporter": "python",
   "pygments_lexer": "ipython3",
   "version": "3.6.9"
  }
 },
 "nbformat": 4,
 "nbformat_minor": 5
}
